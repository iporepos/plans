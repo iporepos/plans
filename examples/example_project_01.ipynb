{
 "cells": [
  {
   "metadata": {},
   "cell_type": "markdown",
   "source": "# Setting up projects",
   "id": "4194c56c00ea1d04"
  },
  {
   "metadata": {},
   "cell_type": "markdown",
   "source": "Import plans first",
   "id": "381af86a786a9322"
  },
  {
   "metadata": {},
   "cell_type": "code",
   "source": "import plans",
   "id": "fb883e19e4875dbe",
   "outputs": [],
   "execution_count": null
  },
  {
   "metadata": {},
   "cell_type": "markdown",
   "source": "## Create a new project",
   "id": "5b23f0610bbe904b"
  },
  {
   "metadata": {},
   "cell_type": "markdown",
   "source": "Set new project details in a python ``dict``:",
   "id": "ecd5215e16c022a3"
  },
  {
   "cell_type": "code",
   "id": "initial_id",
   "metadata": {
    "collapsed": true,
    "ExecuteTime": {
     "end_time": "2025-09-29T19:03:35.236092Z",
     "start_time": "2025-09-29T19:03:35.232444Z"
    }
   },
   "source": [
    "# [CHANGE THIS] setup specs dictionary\n",
    "project_specs = {\n",
    "    \"folder_base\": \"C:/plans\", # change this path\n",
    "    \"name\": \"newProject\",\n",
    "    \"alias\": \"NPrj\",\n",
    "    \"source\": \"Me\",\n",
    "    \"description\": \"Just a test\"\n",
    "}"
   ],
   "outputs": [],
   "execution_count": 7
  },
  {
   "metadata": {},
   "cell_type": "markdown",
   "source": [
    "Then call ``plans.new_project()``\n",
    "\n",
    "```{warning}\n",
    "An error is raised if project already exists\n",
    "```"
   ],
   "id": "eff2255f85825b7d"
  },
  {
   "metadata": {
    "ExecuteTime": {
     "end_time": "2025-09-29T19:03:37.511601Z",
     "start_time": "2025-09-29T19:03:37.487263Z"
    }
   },
   "cell_type": "code",
   "source": "plans.new_project(specs=project_specs)",
   "id": "82eb847ccbb137c8",
   "outputs": [
    {
     "data": {
      "text/plain": [
       "<plans.project.Project at 0x259f4112210>"
      ]
     },
     "execution_count": 8,
     "metadata": {},
     "output_type": "execute_result"
    }
   ],
   "execution_count": 8
  },
  {
   "metadata": {},
   "cell_type": "markdown",
   "source": "This syntax creates and load to a variable the ``plans.Project`` instance:",
   "id": "be4fc8ccf307a428"
  },
  {
   "metadata": {
    "ExecuteTime": {
     "end_time": "2025-09-29T19:08:11.615510Z",
     "start_time": "2025-09-29T19:08:11.576791Z"
    }
   },
   "cell_type": "code",
   "source": "prj = plans.new_project(specs=project_specs)",
   "id": "dbd2169fb1863888",
   "outputs": [
    {
     "ename": "ValueError",
     "evalue": "Project folder already exists 'C:\\plans\\newProject2'",
     "output_type": "error",
     "traceback": [
      "\u001B[31m---------------------------------------------------------------------------\u001B[39m",
      "\u001B[31mValueError\u001B[39m                                Traceback (most recent call last)",
      "\u001B[36mCell\u001B[39m\u001B[36m \u001B[39m\u001B[32mIn[12]\u001B[39m\u001B[32m, line 1\u001B[39m\n\u001B[32m----> \u001B[39m\u001B[32m1\u001B[39m prj = \u001B[43mplans\u001B[49m\u001B[43m.\u001B[49m\u001B[43mnew_project\u001B[49m\u001B[43m(\u001B[49m\u001B[43mspecs\u001B[49m\u001B[43m=\u001B[49m\u001B[43mproject_specs\u001B[49m\u001B[43m)\u001B[49m\n",
      "\u001B[36mFile \u001B[39m\u001B[32m~\\PycharmProjects\\plans\\src\\plans\\project.py:135\u001B[39m, in \u001B[36mnew_project\u001B[39m\u001B[34m(specs)\u001B[39m\n\u001B[32m    133\u001B[39m folder_root = Path(merged[\u001B[33m\"\u001B[39m\u001B[33mfolder_base\u001B[39m\u001B[33m\"\u001B[39m]) / merged[\u001B[33m\"\u001B[39m\u001B[33mname\u001B[39m\u001B[33m\"\u001B[39m]\n\u001B[32m    134\u001B[39m \u001B[38;5;28;01mif\u001B[39;00m os.path.isdir(folder_root):\n\u001B[32m--> \u001B[39m\u001B[32m135\u001B[39m     \u001B[38;5;28;01mraise\u001B[39;00m \u001B[38;5;167;01mValueError\u001B[39;00m(\u001B[33mf\u001B[39m\u001B[33m\"\u001B[39m\u001B[33mProject folder already exists \u001B[39m\u001B[33m'\u001B[39m\u001B[38;5;132;01m{\u001B[39;00mfolder_root\u001B[38;5;132;01m}\u001B[39;00m\u001B[33m'\u001B[39m\u001B[33m\"\u001B[39m)\n\u001B[32m    137\u001B[39m \u001B[38;5;66;03m# instantiate project\u001B[39;00m\n\u001B[32m    138\u001B[39m p = Project(name=merged[\u001B[33m\"\u001B[39m\u001B[33mname\u001B[39m\u001B[33m\"\u001B[39m], alias=merged[\u001B[33m\"\u001B[39m\u001B[33malias\u001B[39m\u001B[33m\"\u001B[39m])\n",
      "\u001B[31mValueError\u001B[39m: Project folder already exists 'C:\\plans\\newProject2'"
     ]
    }
   ],
   "execution_count": 12
  },
  {
   "metadata": {},
   "cell_type": "markdown",
   "source": "## Load an existing project",
   "id": "42740283c8a3bb99"
  },
  {
   "metadata": {},
   "cell_type": "markdown",
   "source": "",
   "id": "cd11e3f087cc5e7c"
  },
  {
   "metadata": {
    "ExecuteTime": {
     "end_time": "2025-09-29T19:08:23.852582Z",
     "start_time": "2025-09-29T19:08:23.828016Z"
    }
   },
   "cell_type": "code",
   "source": [
    "# get project instance\n",
    "prj = plans.load_project(project_folder=\"C:/plans/NewProject\")"
   ],
   "id": "7b394ced9faa3260",
   "outputs": [],
   "execution_count": 13
  }
 ],
 "metadata": {
  "kernelspec": {
   "display_name": "Python 3",
   "language": "python",
   "name": "python3"
  },
  "language_info": {
   "codemirror_mode": {
    "name": "ipython",
    "version": 2
   },
   "file_extension": ".py",
   "mimetype": "text/x-python",
   "name": "python",
   "nbconvert_exporter": "python",
   "pygments_lexer": "ipython2",
   "version": "2.7.6"
  }
 },
 "nbformat": 4,
 "nbformat_minor": 5
}
