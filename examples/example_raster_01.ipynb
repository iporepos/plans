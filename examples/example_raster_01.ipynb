{
 "cells": [
  {
   "metadata": {},
   "cell_type": "markdown",
   "source": "# Raster manipulation",
   "id": "f4be90056f272b57"
  },
  {
   "metadata": {},
   "cell_type": "markdown",
   "source": "## Basics",
   "id": "6646d4740db491a1"
  },
  {
   "metadata": {},
   "cell_type": "markdown",
   "source": "Import class `Raster` from `datasets` module",
   "id": "8f27a7c32654fc6c"
  },
  {
   "cell_type": "code",
   "id": "initial_id",
   "metadata": {
    "collapsed": true
   },
   "source": "from plans.datasets import Raster",
   "outputs": [],
   "execution_count": null
  },
  {
   "metadata": {},
   "cell_type": "markdown",
   "source": "Instantiate the `Raster` object",
   "id": "754cbdf22ba849a8"
  },
  {
   "metadata": {},
   "cell_type": "code",
   "source": "rs = Raster(name=\"MyRaster\", alias=\"RST\")",
   "id": "7d44b5e56e07af8c",
   "outputs": [],
   "execution_count": null
  },
  {
   "metadata": {},
   "cell_type": "markdown",
   "source": [
    "Load data from `tif` file\n",
    "\n",
    "> Note: this file is not provided in the repo"
   ],
   "id": "6085720897c7e2b7"
  },
  {
   "metadata": {},
   "cell_type": "code",
   "source": "rs.load_data(file_data=\"../testing/data/parsers/inputs/dem.tif\")",
   "id": "ab713376659e05e5",
   "outputs": [],
   "execution_count": null
  },
  {
   "metadata": {},
   "cell_type": "markdown",
   "source": "Inspect metadata",
   "id": "57fddbe1178d398a"
  },
  {
   "metadata": {},
   "cell_type": "code",
   "source": "rs.get_metadata_df()",
   "id": "61083e85a1177476",
   "outputs": [],
   "execution_count": null
  },
  {
   "metadata": {},
   "cell_type": "markdown",
   "source": [
    "Edit attributes\n",
    "\n",
    "> Beware of editig metadata like the rows\n"
   ],
   "id": "65a54690c06c4362"
  },
  {
   "metadata": {},
   "cell_type": "code",
   "source": [
    "rs.description = \"My nice raster file\"\n",
    "rs.var_name = \"A spatial variable\""
   ],
   "id": "22f8677a56bbdf0",
   "outputs": [],
   "execution_count": null
  },
  {
   "metadata": {},
   "cell_type": "markdown",
   "source": "## Views",
   "id": "73d1df6158781410"
  },
  {
   "metadata": {},
   "cell_type": "markdown",
   "source": "Setup `view_specs` dictionary",
   "id": "6f8cfc8154528266"
  },
  {
   "metadata": {},
   "cell_type": "code",
   "source": "rs.view_specs[\"style\"] = \"wien\"",
   "id": "a2704275037bcdca",
   "outputs": [],
   "execution_count": null
  },
  {
   "metadata": {},
   "cell_type": "markdown",
   "source": "Inspect full specs",
   "id": "69a1e332b3a58f0c"
  },
  {
   "metadata": {},
   "cell_type": "code",
   "source": "rs.view_specs",
   "id": "41503b83e8725923",
   "outputs": [],
   "execution_count": null
  },
  {
   "metadata": {},
   "cell_type": "markdown",
   "source": "Live view with `show=True`",
   "id": "e45da035d2398d20"
  },
  {
   "metadata": {},
   "cell_type": "code",
   "source": "rs.view(show=True)",
   "id": "5fe7f61fb2e01ae9",
   "outputs": [],
   "execution_count": null
  },
  {
   "metadata": {},
   "cell_type": "markdown",
   "source": "Save to file by setting view_specs",
   "id": "42cfdca5b83c6b23"
  },
  {
   "metadata": {},
   "cell_type": "code",
   "source": [
    "rs.view_specs[\"folder\"] = \"./outputs\"\n",
    "rs.view_specs[\"filename\"] = \"example_raster_01\"\n",
    "rs.view_specs[\"format\"] = \"jpg\"\n",
    "rs.view_specs[\"dpi\"] = 300\n",
    "# set show=False\n",
    "rs.view(show=False)\n",
    "# -> check folder for file"
   ],
   "id": "d2d0dd54ac78746d",
   "outputs": [],
   "execution_count": null
  }
 ],
 "metadata": {
  "kernelspec": {
   "display_name": "Python 3",
   "language": "python",
   "name": "python3"
  },
  "language_info": {
   "codemirror_mode": {
    "name": "ipython",
    "version": 2
   },
   "file_extension": ".py",
   "mimetype": "text/x-python",
   "name": "python",
   "nbconvert_exporter": "python",
   "pygments_lexer": "ipython2",
   "version": "2.7.6"
  }
 },
 "nbformat": 4,
 "nbformat_minor": 5
}
